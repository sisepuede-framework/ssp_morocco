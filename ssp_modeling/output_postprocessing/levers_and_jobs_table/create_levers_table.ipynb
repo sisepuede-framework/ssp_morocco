{
 "cells": [
  {
   "cell_type": "code",
   "execution_count": 1,
   "id": "1daa12a0",
   "metadata": {},
   "outputs": [],
   "source": [
    "import pandas as pd\n",
    "import os"
   ]
  },
  {
   "cell_type": "code",
   "execution_count": 2,
   "id": "153f5da9",
   "metadata": {},
   "outputs": [],
   "source": [
    "SCRIPT_DIR_PATH = os.getcwd()\n",
    "OUTPUT_POSTPROCESSING_DIR_PATH = os.path.dirname(SCRIPT_DIR_PATH)\n",
    "SSP_MODELING_DIR_PATH = os.path.dirname(OUTPUT_POSTPROCESSING_DIR_PATH)\n",
    "SSP_RUN_OUTPUT_DIR_PATH = os.path.join(SSP_MODELING_DIR_PATH, \"ssp_run_output\")\n",
    "RUN_OUTPUT_DIR_PATH = os.path.join(SSP_RUN_OUTPUT_DIR_PATH, \"sisepuede_results_sisepuede_run_2025-09-30T16;13;13.113881\")\n",
    "TABLEAU_DATA_DIR_PATH = os.path.join(SSP_MODELING_DIR_PATH, \"tableau\", \"data\")\n"
   ]
  },
  {
   "cell_type": "code",
   "execution_count": 3,
   "id": "a5066cec",
   "metadata": {},
   "outputs": [
    {
     "data": {
      "text/html": [
       "<div>\n",
       "<style scoped>\n",
       "    .dataframe tbody tr th:only-of-type {\n",
       "        vertical-align: middle;\n",
       "    }\n",
       "\n",
       "    .dataframe tbody tr th {\n",
       "        vertical-align: top;\n",
       "    }\n",
       "\n",
       "    .dataframe thead th {\n",
       "        text-align: right;\n",
       "    }\n",
       "</style>\n",
       "<table border=\"1\" class=\"dataframe\">\n",
       "  <thead>\n",
       "    <tr style=\"text-align: right;\">\n",
       "      <th></th>\n",
       "      <th>sector</th>\n",
       "      <th>subsector</th>\n",
       "      <th>transformer_code</th>\n",
       "      <th>transformer_name</th>\n",
       "      <th>transformer_description</th>\n",
       "      <th>transformer_unit</th>\n",
       "      <th>start_period</th>\n",
       "      <th>maximum_magnitude</th>\n",
       "      <th>strategy_PFLO_LEP</th>\n",
       "      <th>year</th>\n",
       "    </tr>\n",
       "  </thead>\n",
       "  <tbody>\n",
       "    <tr>\n",
       "      <th>0</th>\n",
       "      <td>AFOLU</td>\n",
       "      <td>AGRC</td>\n",
       "      <td>TFR:AGRC:DEC_CH4_RICE</td>\n",
       "      <td>AGRC: Improve rice management</td>\n",
       "      <td>Reduce :math:`\\text{CH}_4` emissions from rice...</td>\n",
       "      <td>Fractional reduction in methane emitted from r...</td>\n",
       "      <td>12</td>\n",
       "      <td>0.0</td>\n",
       "      <td>0.0</td>\n",
       "      <td>2015</td>\n",
       "    </tr>\n",
       "    <tr>\n",
       "      <th>1</th>\n",
       "      <td>AFOLU</td>\n",
       "      <td>AGRC</td>\n",
       "      <td>TFR:AGRC:DEC_CH4_RICE</td>\n",
       "      <td>AGRC: Improve rice management</td>\n",
       "      <td>Reduce :math:`\\text{CH}_4` emissions from rice...</td>\n",
       "      <td>Fractional reduction in methane emitted from r...</td>\n",
       "      <td>12</td>\n",
       "      <td>0.0</td>\n",
       "      <td>0.0</td>\n",
       "      <td>2016</td>\n",
       "    </tr>\n",
       "    <tr>\n",
       "      <th>2</th>\n",
       "      <td>AFOLU</td>\n",
       "      <td>AGRC</td>\n",
       "      <td>TFR:AGRC:DEC_CH4_RICE</td>\n",
       "      <td>AGRC: Improve rice management</td>\n",
       "      <td>Reduce :math:`\\text{CH}_4` emissions from rice...</td>\n",
       "      <td>Fractional reduction in methane emitted from r...</td>\n",
       "      <td>12</td>\n",
       "      <td>0.0</td>\n",
       "      <td>0.0</td>\n",
       "      <td>2017</td>\n",
       "    </tr>\n",
       "    <tr>\n",
       "      <th>3</th>\n",
       "      <td>AFOLU</td>\n",
       "      <td>AGRC</td>\n",
       "      <td>TFR:AGRC:DEC_CH4_RICE</td>\n",
       "      <td>AGRC: Improve rice management</td>\n",
       "      <td>Reduce :math:`\\text{CH}_4` emissions from rice...</td>\n",
       "      <td>Fractional reduction in methane emitted from r...</td>\n",
       "      <td>12</td>\n",
       "      <td>0.0</td>\n",
       "      <td>0.0</td>\n",
       "      <td>2018</td>\n",
       "    </tr>\n",
       "    <tr>\n",
       "      <th>4</th>\n",
       "      <td>AFOLU</td>\n",
       "      <td>AGRC</td>\n",
       "      <td>TFR:AGRC:DEC_CH4_RICE</td>\n",
       "      <td>AGRC: Improve rice management</td>\n",
       "      <td>Reduce :math:`\\text{CH}_4` emissions from rice...</td>\n",
       "      <td>Fractional reduction in methane emitted from r...</td>\n",
       "      <td>12</td>\n",
       "      <td>0.0</td>\n",
       "      <td>0.0</td>\n",
       "      <td>2019</td>\n",
       "    </tr>\n",
       "  </tbody>\n",
       "</table>\n",
       "</div>"
      ],
      "text/plain": [
       "  sector subsector       transformer_code               transformer_name  \\\n",
       "0  AFOLU      AGRC  TFR:AGRC:DEC_CH4_RICE  AGRC: Improve rice management   \n",
       "1  AFOLU      AGRC  TFR:AGRC:DEC_CH4_RICE  AGRC: Improve rice management   \n",
       "2  AFOLU      AGRC  TFR:AGRC:DEC_CH4_RICE  AGRC: Improve rice management   \n",
       "3  AFOLU      AGRC  TFR:AGRC:DEC_CH4_RICE  AGRC: Improve rice management   \n",
       "4  AFOLU      AGRC  TFR:AGRC:DEC_CH4_RICE  AGRC: Improve rice management   \n",
       "\n",
       "                             transformer_description  \\\n",
       "0  Reduce :math:`\\text{CH}_4` emissions from rice...   \n",
       "1  Reduce :math:`\\text{CH}_4` emissions from rice...   \n",
       "2  Reduce :math:`\\text{CH}_4` emissions from rice...   \n",
       "3  Reduce :math:`\\text{CH}_4` emissions from rice...   \n",
       "4  Reduce :math:`\\text{CH}_4` emissions from rice...   \n",
       "\n",
       "                                    transformer_unit  start_period  \\\n",
       "0  Fractional reduction in methane emitted from r...            12   \n",
       "1  Fractional reduction in methane emitted from r...            12   \n",
       "2  Fractional reduction in methane emitted from r...            12   \n",
       "3  Fractional reduction in methane emitted from r...            12   \n",
       "4  Fractional reduction in methane emitted from r...            12   \n",
       "\n",
       "   maximum_magnitude  strategy_PFLO_LEP  year  \n",
       "0                0.0                0.0  2015  \n",
       "1                0.0                0.0  2016  \n",
       "2                0.0                0.0  2017  \n",
       "3                0.0                0.0  2018  \n",
       "4                0.0                0.0  2019  "
      ]
     },
     "execution_count": 3,
     "metadata": {},
     "output_type": "execute_result"
    }
   ],
   "source": [
    "# --- Load tables ---\n",
    "ssp_table = pd.read_csv(os.path.join(RUN_OUTPUT_DIR_PATH, \"levers_implementation_morocco.csv\"))\n",
    "ssp_table.head()"
   ]
  },
  {
   "cell_type": "code",
   "execution_count": 4,
   "id": "d6c7ca4d",
   "metadata": {},
   "outputs": [],
   "source": [
    "# Create transformation_code by removing \"TFR:\" from transformer_code\n",
    "ssp_table[\"transformation_code\"] = ssp_table[\"transformer_code\"].str.replace(r\"^TFR:\", \"\", regex=True)"
   ]
  },
  {
   "cell_type": "code",
   "execution_count": 5,
   "id": "2a2f65e4",
   "metadata": {},
   "outputs": [
    {
     "data": {
      "text/html": [
       "<div>\n",
       "<style scoped>\n",
       "    .dataframe tbody tr th:only-of-type {\n",
       "        vertical-align: middle;\n",
       "    }\n",
       "\n",
       "    .dataframe tbody tr th {\n",
       "        vertical-align: top;\n",
       "    }\n",
       "\n",
       "    .dataframe thead th {\n",
       "        text-align: right;\n",
       "    }\n",
       "</style>\n",
       "<table border=\"1\" class=\"dataframe\">\n",
       "  <thead>\n",
       "    <tr style=\"text-align: right;\">\n",
       "      <th></th>\n",
       "      <th>transformation_code</th>\n",
       "      <th>transformation_description_long</th>\n",
       "    </tr>\n",
       "  </thead>\n",
       "  <tbody>\n",
       "    <tr>\n",
       "      <th>0</th>\n",
       "      <td>AGRC:DEC_CH4_RICE</td>\n",
       "      <td>Many practices can reduce emissions associated...</td>\n",
       "    </tr>\n",
       "    <tr>\n",
       "      <th>1</th>\n",
       "      <td>AGRC:DEC_EXPORTS</td>\n",
       "      <td>Decrease agricultural exports by some percenta...</td>\n",
       "    </tr>\n",
       "    <tr>\n",
       "      <th>2</th>\n",
       "      <td>AGRC:DEC_LOSSES_SUPPLY_CHAIN</td>\n",
       "      <td>Reduce waste food waste in the agricultural (c...</td>\n",
       "    </tr>\n",
       "    <tr>\n",
       "      <th>3</th>\n",
       "      <td>AGRC:INC_CONSERVATION_AGRICULTURE</td>\n",
       "      <td>Conservation agriculture is the term given to ...</td>\n",
       "    </tr>\n",
       "    <tr>\n",
       "      <th>4</th>\n",
       "      <td>AGRC:INC_PRODUCTIVITY</td>\n",
       "      <td>Apply a fractional increase to crop yield fact...</td>\n",
       "    </tr>\n",
       "  </tbody>\n",
       "</table>\n",
       "</div>"
      ],
      "text/plain": [
       "                 transformation_code  \\\n",
       "0                  AGRC:DEC_CH4_RICE   \n",
       "1                   AGRC:DEC_EXPORTS   \n",
       "2       AGRC:DEC_LOSSES_SUPPLY_CHAIN   \n",
       "3  AGRC:INC_CONSERVATION_AGRICULTURE   \n",
       "4              AGRC:INC_PRODUCTIVITY   \n",
       "\n",
       "                     transformation_description_long  \n",
       "0  Many practices can reduce emissions associated...  \n",
       "1  Decrease agricultural exports by some percenta...  \n",
       "2  Reduce waste food waste in the agricultural (c...  \n",
       "3  Conservation agriculture is the term given to ...  \n",
       "4  Apply a fractional increase to crop yield fact...  "
      ]
     },
     "execution_count": 5,
     "metadata": {},
     "output_type": "execute_result"
    }
   ],
   "source": [
    "# Descriptions\n",
    "desp = pd.read_csv(\"ssp_descriptions.csv\")\n",
    "desp.head()"
   ]
  },
  {
   "cell_type": "code",
   "execution_count": 6,
   "id": "0f1b34f2",
   "metadata": {},
   "outputs": [
    {
     "data": {
      "text/html": [
       "<div>\n",
       "<style scoped>\n",
       "    .dataframe tbody tr th:only-of-type {\n",
       "        vertical-align: middle;\n",
       "    }\n",
       "\n",
       "    .dataframe tbody tr th {\n",
       "        vertical-align: top;\n",
       "    }\n",
       "\n",
       "    .dataframe thead th {\n",
       "        text-align: right;\n",
       "    }\n",
       "</style>\n",
       "<table border=\"1\" class=\"dataframe\">\n",
       "  <thead>\n",
       "    <tr style=\"text-align: right;\">\n",
       "      <th></th>\n",
       "      <th>transformation_code</th>\n",
       "      <th>transformation_name_stakeholder</th>\n",
       "      <th>sector</th>\n",
       "      <th>subsector</th>\n",
       "      <th>Sector (output)</th>\n",
       "      <th>Subsector (output)</th>\n",
       "      <th>Example government policies</th>\n",
       "    </tr>\n",
       "  </thead>\n",
       "  <tbody>\n",
       "    <tr>\n",
       "      <th>0</th>\n",
       "      <td>AGRC:DEC_CH4_RICE</td>\n",
       "      <td>Improve rice management</td>\n",
       "      <td>AFOLU</td>\n",
       "      <td>AGRC</td>\n",
       "      <td>AFOLU</td>\n",
       "      <td>Agriculture</td>\n",
       "      <td>NaN</td>\n",
       "    </tr>\n",
       "    <tr>\n",
       "      <th>1</th>\n",
       "      <td>AGRC:DEC_EXPORTS</td>\n",
       "      <td>Decrease Exports</td>\n",
       "      <td>AFOLU</td>\n",
       "      <td>AGRC</td>\n",
       "      <td>AFOLU</td>\n",
       "      <td>Agriculture</td>\n",
       "      <td>NaN</td>\n",
       "    </tr>\n",
       "    <tr>\n",
       "      <th>2</th>\n",
       "      <td>AGRC:DEC_LOSSES_SUPPLY_CHAIN</td>\n",
       "      <td>Reduce supply chain losses</td>\n",
       "      <td>AFOLU</td>\n",
       "      <td>AGRC</td>\n",
       "      <td>AFOLU</td>\n",
       "      <td>Agriculture</td>\n",
       "      <td>NaN</td>\n",
       "    </tr>\n",
       "    <tr>\n",
       "      <th>3</th>\n",
       "      <td>AGRC:INC_CONSERVATION_AGRICULTURE</td>\n",
       "      <td>Expand conservation agriculture</td>\n",
       "      <td>AFOLU</td>\n",
       "      <td>AGRC</td>\n",
       "      <td>AFOLU</td>\n",
       "      <td>Agriculture</td>\n",
       "      <td>NaN</td>\n",
       "    </tr>\n",
       "    <tr>\n",
       "      <th>4</th>\n",
       "      <td>AGRC:INC_PRODUCTIVITY</td>\n",
       "      <td>Improve crop productivity</td>\n",
       "      <td>AFOLU</td>\n",
       "      <td>AGRC</td>\n",
       "      <td>AFOLU</td>\n",
       "      <td>Agriculture</td>\n",
       "      <td>NaN</td>\n",
       "    </tr>\n",
       "  </tbody>\n",
       "</table>\n",
       "</div>"
      ],
      "text/plain": [
       "                 transformation_code  transformation_name_stakeholder sector  \\\n",
       "0                  AGRC:DEC_CH4_RICE          Improve rice management  AFOLU   \n",
       "1                   AGRC:DEC_EXPORTS                 Decrease Exports  AFOLU   \n",
       "2       AGRC:DEC_LOSSES_SUPPLY_CHAIN       Reduce supply chain losses  AFOLU   \n",
       "3  AGRC:INC_CONSERVATION_AGRICULTURE  Expand conservation agriculture  AFOLU   \n",
       "4              AGRC:INC_PRODUCTIVITY        Improve crop productivity  AFOLU   \n",
       "\n",
       "  subsector Sector (output) Subsector (output)  Example government policies  \n",
       "0      AGRC           AFOLU        Agriculture                          NaN  \n",
       "1      AGRC           AFOLU        Agriculture                          NaN  \n",
       "2      AGRC           AFOLU        Agriculture                          NaN  \n",
       "3      AGRC           AFOLU        Agriculture                          NaN  \n",
       "4      AGRC           AFOLU        Agriculture                          NaN  "
      ]
     },
     "execution_count": 6,
     "metadata": {},
     "output_type": "execute_result"
    }
   ],
   "source": [
    "# Stakeholder codes\n",
    "scodes = pd.read_csv(\"stakeholder_codes.csv\")\n",
    "scodes[\"transformation_code\"] = scodes[\"transformation_code\"].str.replace(r\"^TX:\", \"\", regex=True)\n",
    "scodes.head()"
   ]
  },
  {
   "cell_type": "code",
   "execution_count": 7,
   "id": "b44276f7",
   "metadata": {},
   "outputs": [
    {
     "name": "stdout",
     "output_type": "stream",
     "text": [
      "ssp_table shape: (2016, 11)\n",
      "desp shape: (64, 2)\n",
      "after desp merge: (1980, 12)\n"
     ]
    }
   ],
   "source": [
    "print(\"ssp_table shape:\", ssp_table.shape)\n",
    "print(\"desp shape:\", desp.shape)\n",
    "\n",
    "# --- Merge with descriptions ---\n",
    "ssp_table = ssp_table.merge(desp, on=\"transformation_code\", how=\"inner\")\n",
    "print(\"after desp merge:\", ssp_table.shape)"
   ]
  },
  {
   "cell_type": "code",
   "execution_count": 8,
   "id": "0e008dc6",
   "metadata": {},
   "outputs": [
    {
     "data": {
      "text/plain": [
       "Index(['transformation_code', 'transformation_name_stakeholder', 'sector',\n",
       "       'subsector', 'Sector (output)', 'Subsector (output)',\n",
       "       'Example government policies'],\n",
       "      dtype='object')"
      ]
     },
     "execution_count": 8,
     "metadata": {},
     "output_type": "execute_result"
    }
   ],
   "source": [
    "scodes.columns"
   ]
  },
  {
   "cell_type": "code",
   "execution_count": 9,
   "id": "cfec7f0c",
   "metadata": {},
   "outputs": [
    {
     "name": "stdout",
     "output_type": "stream",
     "text": [
      "after scodes merge: (1980, 16)\n"
     ]
    }
   ],
   "source": [
    "# --- Merge with selected stakeholder columns ---\n",
    "stakeholder_cols = [\n",
    "    \"transformation_code\",\n",
    "    \"transformation_name_stakeholder\",\n",
    "    \"Sector (output)\",\n",
    "    \"Subsector (output)\",\n",
    "    \"Example government policies\",\n",
    "]\n",
    "ssp_table = ssp_table.merge(scodes[stakeholder_cols], on=\"transformation_code\", how=\"inner\")\n",
    "print(\"after scodes merge:\", ssp_table.shape)"
   ]
  },
  {
   "cell_type": "code",
   "execution_count": 10,
   "id": "bf7e0fde",
   "metadata": {},
   "outputs": [
    {
     "name": "stdout",
     "output_type": "stream",
     "text": [
      "Wrote: /Users/tony/Documents/sisepuede_modeling/ssp_morocco/ssp_modeling/tableau/data/tableau_levers_table_complete.csv\n"
     ]
    }
   ],
   "source": [
    "# --- Write result ---\n",
    "out_path = os.path.join(TABLEAU_DATA_DIR_PATH, \"tableau_levers_table_complete.csv\")\n",
    "os.makedirs(os.path.dirname(out_path), exist_ok=True)\n",
    "ssp_table.to_csv(out_path, index=False)\n",
    "print(f\"Wrote: {out_path}\")"
   ]
  },
  {
   "cell_type": "code",
   "execution_count": null,
   "id": "e97b6f8e",
   "metadata": {},
   "outputs": [],
   "source": []
  },
  {
   "cell_type": "code",
   "execution_count": null,
   "id": "df3ce3cc",
   "metadata": {},
   "outputs": [],
   "source": []
  },
  {
   "cell_type": "code",
   "execution_count": null,
   "id": "de2634ef",
   "metadata": {},
   "outputs": [],
   "source": []
  },
  {
   "cell_type": "code",
   "execution_count": null,
   "id": "49859833",
   "metadata": {},
   "outputs": [],
   "source": []
  }
 ],
 "metadata": {
  "kernelspec": {
   "display_name": "ssp_morocco_env",
   "language": "python",
   "name": "python3"
  },
  "language_info": {
   "codemirror_mode": {
    "name": "ipython",
    "version": 3
   },
   "file_extension": ".py",
   "mimetype": "text/x-python",
   "name": "python",
   "nbconvert_exporter": "python",
   "pygments_lexer": "ipython3",
   "version": "3.11.13"
  }
 },
 "nbformat": 4,
 "nbformat_minor": 5
}
