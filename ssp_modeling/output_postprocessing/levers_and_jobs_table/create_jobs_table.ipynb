{
 "cells": [
  {
   "cell_type": "code",
   "execution_count": 1,
   "id": "298c4cab",
   "metadata": {},
   "outputs": [],
   "source": [
    "import pandas as pd\n",
    "import os"
   ]
  },
  {
   "cell_type": "code",
   "execution_count": 2,
   "id": "3b7afd5e",
   "metadata": {},
   "outputs": [],
   "source": [
    "SCRIPT_DIR_PATH = os.getcwd()\n",
    "OUTPUT_POSTPROCESSING_DIR_PATH = os.path.dirname(SCRIPT_DIR_PATH)\n",
    "SSP_MODELING_DIR_PATH = os.path.dirname(OUTPUT_POSTPROCESSING_DIR_PATH)\n",
    "SSP_RUN_OUTPUT_DIR_PATH = os.path.join(SSP_MODELING_DIR_PATH, \"ssp_run_output\")\n",
    "TABLEAU_DATA_DIR_PATH = os.path.join(SSP_MODELING_DIR_PATH, \"tableau\", \"data\")"
   ]
  },
  {
   "cell_type": "code",
   "execution_count": 3,
   "id": "e4e06350",
   "metadata": {},
   "outputs": [],
   "source": [
    "# --- Helper function to process jobs table ---\n",
    "def process_jobs_table(country_code: str, output_path, input_file):\n",
    "    jobs_table = pd.read_csv(input_file)\n",
    "\n",
    "    # Split Strategy column into sector and transformation name\n",
    "    strategy_split = jobs_table[\"Strategy\"].astype(str).str.split(\":\", n=1, expand=True)\n",
    "    jobs_table[\"ssp_sector\"] = strategy_split[0]\n",
    "    jobs_table[\"ssp_transformation_name\"] = strategy_split[1]\n",
    "\n",
    "    # Filter by country\n",
    "    jobs_table = jobs_table[jobs_table[\"Country\"] == country_code]\n",
    "\n",
    "    # Save result\n",
    "    jobs_table.to_csv(output_path, index=False)\n",
    "    print(f\"Wrote {country_code} table to: {output_path}, shape: {jobs_table.shape}\")"
   ]
  },
  {
   "cell_type": "code",
   "execution_count": 4,
   "id": "df124582",
   "metadata": {},
   "outputs": [
    {
     "name": "stdout",
     "output_type": "stream",
     "text": [
      "Wrote MAR table to: /Users/tony/Documents/sisepuede_modeling/ssp_morocco/ssp_modeling/tableau/data/jobs_demand_morocco.csv, shape: (1742, 9)\n"
     ]
    }
   ],
   "source": [
    "# --- Run for Morocco ---\n",
    "process_jobs_table(\n",
    "    country_code=\"MAR\",\n",
    "    output_path=os.path.join(TABLEAU_DATA_DIR_PATH, \"jobs_demand_morocco.csv\"),\n",
    "    input_file=\"Sisepuede - Employment Results - WB (SECTOR).csv\"\n",
    ")"
   ]
  },
  {
   "cell_type": "code",
   "execution_count": null,
   "id": "581c4adf",
   "metadata": {},
   "outputs": [],
   "source": []
  },
  {
   "cell_type": "code",
   "execution_count": null,
   "id": "86fc423a",
   "metadata": {},
   "outputs": [],
   "source": []
  },
  {
   "cell_type": "code",
   "execution_count": null,
   "id": "ad11c12c",
   "metadata": {},
   "outputs": [],
   "source": []
  },
  {
   "cell_type": "code",
   "execution_count": null,
   "id": "0e0cf1ff",
   "metadata": {},
   "outputs": [],
   "source": []
  }
 ],
 "metadata": {
  "kernelspec": {
   "display_name": "ssp_morocco_env",
   "language": "python",
   "name": "python3"
  },
  "language_info": {
   "codemirror_mode": {
    "name": "ipython",
    "version": 3
   },
   "file_extension": ".py",
   "mimetype": "text/x-python",
   "name": "python",
   "nbconvert_exporter": "python",
   "pygments_lexer": "ipython3",
   "version": "3.11.13"
  }
 },
 "nbformat": 4,
 "nbformat_minor": 5
}
